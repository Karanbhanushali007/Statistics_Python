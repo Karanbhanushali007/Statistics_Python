{
 "cells": [
  {
   "cell_type": "markdown",
   "id": "45b35c6e-c8d0-44fb-90ac-3ad6cae59741",
   "metadata": {
    "jp-MarkdownHeadingCollapsed": true
   },
   "source": [
    "# Karan_Bhanushali_ABDAS_13_Statistics_for_Decision Making"
   ]
  },
  {
   "cell_type": "markdown",
   "id": "aba76e38-5311-49c8-8a53-2095776261e0",
   "metadata": {},
   "source": [
    "## Importing the Data"
   ]
  },
  {
   "cell_type": "code",
   "execution_count": 1,
   "id": "9b883740-311f-415f-95b8-09631c54707e",
   "metadata": {},
   "outputs": [],
   "source": [
    "import pandas as pd\n",
    "import numpy as np\n",
    "import warnings\n",
    "warnings.filterwarnings('ignore')"
   ]
  },
  {
   "cell_type": "code",
   "execution_count": 2,
   "id": "6b6852c5-fbbd-4edf-b632-9868f100b40f",
   "metadata": {},
   "outputs": [],
   "source": [
    "# Load the CSV file\n",
    "csv_file_path = (r\"C:\\Users\\ADMIN\\Python\\05. Assignment\\Property Assignment\\property.csv\")\n",
    "df_prop = pd.read_csv(csv_file_path)"
   ]
  },
  {
   "cell_type": "code",
   "execution_count": 3,
   "id": "bf76a30f-124b-4497-8e4d-7b72e3358902",
   "metadata": {},
   "outputs": [
    {
     "data": {
      "text/html": [
       "<div>\n",
       "<style scoped>\n",
       "    .dataframe tbody tr th:only-of-type {\n",
       "        vertical-align: middle;\n",
       "    }\n",
       "\n",
       "    .dataframe tbody tr th {\n",
       "        vertical-align: top;\n",
       "    }\n",
       "\n",
       "    .dataframe thead th {\n",
       "        text-align: right;\n",
       "    }\n",
       "</style>\n",
       "<table border=\"1\" class=\"dataframe\">\n",
       "  <thead>\n",
       "    <tr style=\"text-align: right;\">\n",
       "      <th></th>\n",
       "      <th>Missing Values</th>\n",
       "      <th>Data Types</th>\n",
       "      <th>Duplicate Count</th>\n",
       "    </tr>\n",
       "  </thead>\n",
       "  <tbody>\n",
       "    <tr>\n",
       "      <th>Suburb</th>\n",
       "      <td>0</td>\n",
       "      <td>object</td>\n",
       "      <td>0</td>\n",
       "    </tr>\n",
       "    <tr>\n",
       "      <th>Address</th>\n",
       "      <td>0</td>\n",
       "      <td>object</td>\n",
       "      <td>0</td>\n",
       "    </tr>\n",
       "    <tr>\n",
       "      <th>Rooms</th>\n",
       "      <td>0</td>\n",
       "      <td>int64</td>\n",
       "      <td>0</td>\n",
       "    </tr>\n",
       "    <tr>\n",
       "      <th>Type</th>\n",
       "      <td>0</td>\n",
       "      <td>object</td>\n",
       "      <td>0</td>\n",
       "    </tr>\n",
       "    <tr>\n",
       "      <th>Price</th>\n",
       "      <td>0</td>\n",
       "      <td>float64</td>\n",
       "      <td>0</td>\n",
       "    </tr>\n",
       "    <tr>\n",
       "      <th>Method</th>\n",
       "      <td>0</td>\n",
       "      <td>object</td>\n",
       "      <td>0</td>\n",
       "    </tr>\n",
       "    <tr>\n",
       "      <th>SellerG</th>\n",
       "      <td>0</td>\n",
       "      <td>object</td>\n",
       "      <td>0</td>\n",
       "    </tr>\n",
       "    <tr>\n",
       "      <th>Date</th>\n",
       "      <td>0</td>\n",
       "      <td>object</td>\n",
       "      <td>0</td>\n",
       "    </tr>\n",
       "    <tr>\n",
       "      <th>Distance</th>\n",
       "      <td>0</td>\n",
       "      <td>float64</td>\n",
       "      <td>0</td>\n",
       "    </tr>\n",
       "    <tr>\n",
       "      <th>Postcode</th>\n",
       "      <td>0</td>\n",
       "      <td>float64</td>\n",
       "      <td>0</td>\n",
       "    </tr>\n",
       "    <tr>\n",
       "      <th>Bedroom2</th>\n",
       "      <td>0</td>\n",
       "      <td>float64</td>\n",
       "      <td>0</td>\n",
       "    </tr>\n",
       "    <tr>\n",
       "      <th>Bathroom</th>\n",
       "      <td>0</td>\n",
       "      <td>float64</td>\n",
       "      <td>0</td>\n",
       "    </tr>\n",
       "    <tr>\n",
       "      <th>Car</th>\n",
       "      <td>62</td>\n",
       "      <td>float64</td>\n",
       "      <td>0</td>\n",
       "    </tr>\n",
       "    <tr>\n",
       "      <th>Landsize</th>\n",
       "      <td>0</td>\n",
       "      <td>float64</td>\n",
       "      <td>0</td>\n",
       "    </tr>\n",
       "    <tr>\n",
       "      <th>BuildingArea</th>\n",
       "      <td>6450</td>\n",
       "      <td>float64</td>\n",
       "      <td>0</td>\n",
       "    </tr>\n",
       "    <tr>\n",
       "      <th>YearBuilt</th>\n",
       "      <td>5375</td>\n",
       "      <td>float64</td>\n",
       "      <td>0</td>\n",
       "    </tr>\n",
       "    <tr>\n",
       "      <th>CouncilArea</th>\n",
       "      <td>1369</td>\n",
       "      <td>object</td>\n",
       "      <td>0</td>\n",
       "    </tr>\n",
       "    <tr>\n",
       "      <th>Lattitude</th>\n",
       "      <td>0</td>\n",
       "      <td>float64</td>\n",
       "      <td>0</td>\n",
       "    </tr>\n",
       "    <tr>\n",
       "      <th>Longtitude</th>\n",
       "      <td>0</td>\n",
       "      <td>float64</td>\n",
       "      <td>0</td>\n",
       "    </tr>\n",
       "    <tr>\n",
       "      <th>Regionname</th>\n",
       "      <td>0</td>\n",
       "      <td>object</td>\n",
       "      <td>0</td>\n",
       "    </tr>\n",
       "    <tr>\n",
       "      <th>Propertycount</th>\n",
       "      <td>0</td>\n",
       "      <td>float64</td>\n",
       "      <td>0</td>\n",
       "    </tr>\n",
       "  </tbody>\n",
       "</table>\n",
       "</div>"
      ],
      "text/plain": [
       "               Missing Values Data Types  Duplicate Count\n",
       "Suburb                      0     object                0\n",
       "Address                     0     object                0\n",
       "Rooms                       0      int64                0\n",
       "Type                        0     object                0\n",
       "Price                       0    float64                0\n",
       "Method                      0     object                0\n",
       "SellerG                     0     object                0\n",
       "Date                        0     object                0\n",
       "Distance                    0    float64                0\n",
       "Postcode                    0    float64                0\n",
       "Bedroom2                    0    float64                0\n",
       "Bathroom                    0    float64                0\n",
       "Car                        62    float64                0\n",
       "Landsize                    0    float64                0\n",
       "BuildingArea             6450    float64                0\n",
       "YearBuilt                5375    float64                0\n",
       "CouncilArea              1369     object                0\n",
       "Lattitude                   0    float64                0\n",
       "Longtitude                  0    float64                0\n",
       "Regionname                  0     object                0\n",
       "Propertycount               0    float64                0"
      ]
     },
     "execution_count": 3,
     "metadata": {},
     "output_type": "execute_result"
    }
   ],
   "source": [
    "# Checking column information\n",
    "# Checking the missing values\n",
    "missing_values = df_prop.isnull().sum()\n",
    "\n",
    "# Get the data types\n",
    "data_types = df_prop.dtypes\n",
    "\n",
    "# Count duplicates\n",
    "duplicate_count = df_prop.duplicated().sum()\n",
    "\n",
    "# Create a summary DataFrame\n",
    "summary = pd.DataFrame({\n",
    "    'Missing Values': missing_values,\n",
    "    'Data Types': data_types,\n",
    "    'Duplicate Count': [duplicate_count] * len(missing_values)\n",
    "})\n",
    "\n",
    "summary"
   ]
  },
  {
   "cell_type": "code",
   "execution_count": 4,
   "id": "3ef0fa6e-6f64-4520-9a59-3192cd1f542c",
   "metadata": {},
   "outputs": [
    {
     "name": "stdout",
     "output_type": "stream",
     "text": [
      "Skewness of 'Car' column: 1.3696759255976967\n",
      "Skewness of 'BuildingArea' column: 77.69154091544215\n",
      "Skewness of 'YearBuilt' column: -1.5412787597590965\n"
     ]
    }
   ],
   "source": [
    "# Check skewness of the 'Car' column\n",
    "skewness_car = df_prop['Car'].skew()\n",
    "print(f\"Skewness of 'Car' column: {skewness_car}\")\n",
    "\n",
    "# Check skewness of the 'BuildingArea' column\n",
    "skewness_building_area = df_prop['BuildingArea'].skew()\n",
    "print(f\"Skewness of 'BuildingArea' column: {skewness_building_area}\")\n",
    "\n",
    "# Check skewness of the 'YearBuilt' column\n",
    "skewness_year_built = df_prop['YearBuilt'].skew()\n",
    "print(f\"Skewness of 'YearBuilt' column: {skewness_year_built}\")"
   ]
  },
  {
   "cell_type": "code",
   "execution_count": 5,
   "id": "805814b6-d0c0-4d1d-9097-fea63ffec75d",
   "metadata": {},
   "outputs": [],
   "source": [
    "# Fill missing values for numerical columns using the median\n",
    "df_prop['Car'].fillna(df_prop['Car'].median(), inplace=True)\n",
    "df_prop['BuildingArea'].fillna(df_prop['BuildingArea'].median(), inplace=True)\n",
    "df_prop['YearBuilt'].fillna(df_prop['YearBuilt'].median(), inplace=True)\n",
    "\n",
    "# Replace missing values in 'CouncilArea' column with 'Not Applicable'\n",
    "df_prop['CouncilArea'].fillna('Not Applicable', inplace=True)"
   ]
  },
  {
   "cell_type": "code",
   "execution_count": 6,
   "id": "aeac0015-ec8f-4516-8200-790ac44dc789",
   "metadata": {},
   "outputs": [
    {
     "data": {
      "text/html": [
       "<div>\n",
       "<style scoped>\n",
       "    .dataframe tbody tr th:only-of-type {\n",
       "        vertical-align: middle;\n",
       "    }\n",
       "\n",
       "    .dataframe tbody tr th {\n",
       "        vertical-align: top;\n",
       "    }\n",
       "\n",
       "    .dataframe thead th {\n",
       "        text-align: right;\n",
       "    }\n",
       "</style>\n",
       "<table border=\"1\" class=\"dataframe\">\n",
       "  <thead>\n",
       "    <tr style=\"text-align: right;\">\n",
       "      <th></th>\n",
       "      <th>Missing Values</th>\n",
       "      <th>Data Types</th>\n",
       "      <th>Duplicate Count</th>\n",
       "    </tr>\n",
       "  </thead>\n",
       "  <tbody>\n",
       "    <tr>\n",
       "      <th>Suburb</th>\n",
       "      <td>0</td>\n",
       "      <td>object</td>\n",
       "      <td>0</td>\n",
       "    </tr>\n",
       "    <tr>\n",
       "      <th>Address</th>\n",
       "      <td>0</td>\n",
       "      <td>object</td>\n",
       "      <td>0</td>\n",
       "    </tr>\n",
       "    <tr>\n",
       "      <th>Rooms</th>\n",
       "      <td>0</td>\n",
       "      <td>int64</td>\n",
       "      <td>0</td>\n",
       "    </tr>\n",
       "    <tr>\n",
       "      <th>Type</th>\n",
       "      <td>0</td>\n",
       "      <td>object</td>\n",
       "      <td>0</td>\n",
       "    </tr>\n",
       "    <tr>\n",
       "      <th>Price</th>\n",
       "      <td>0</td>\n",
       "      <td>float64</td>\n",
       "      <td>0</td>\n",
       "    </tr>\n",
       "    <tr>\n",
       "      <th>Method</th>\n",
       "      <td>0</td>\n",
       "      <td>object</td>\n",
       "      <td>0</td>\n",
       "    </tr>\n",
       "    <tr>\n",
       "      <th>SellerG</th>\n",
       "      <td>0</td>\n",
       "      <td>object</td>\n",
       "      <td>0</td>\n",
       "    </tr>\n",
       "    <tr>\n",
       "      <th>Date</th>\n",
       "      <td>0</td>\n",
       "      <td>object</td>\n",
       "      <td>0</td>\n",
       "    </tr>\n",
       "    <tr>\n",
       "      <th>Distance</th>\n",
       "      <td>0</td>\n",
       "      <td>float64</td>\n",
       "      <td>0</td>\n",
       "    </tr>\n",
       "    <tr>\n",
       "      <th>Postcode</th>\n",
       "      <td>0</td>\n",
       "      <td>float64</td>\n",
       "      <td>0</td>\n",
       "    </tr>\n",
       "    <tr>\n",
       "      <th>Bedroom2</th>\n",
       "      <td>0</td>\n",
       "      <td>float64</td>\n",
       "      <td>0</td>\n",
       "    </tr>\n",
       "    <tr>\n",
       "      <th>Bathroom</th>\n",
       "      <td>0</td>\n",
       "      <td>float64</td>\n",
       "      <td>0</td>\n",
       "    </tr>\n",
       "    <tr>\n",
       "      <th>Car</th>\n",
       "      <td>0</td>\n",
       "      <td>float64</td>\n",
       "      <td>0</td>\n",
       "    </tr>\n",
       "    <tr>\n",
       "      <th>Landsize</th>\n",
       "      <td>0</td>\n",
       "      <td>float64</td>\n",
       "      <td>0</td>\n",
       "    </tr>\n",
       "    <tr>\n",
       "      <th>BuildingArea</th>\n",
       "      <td>0</td>\n",
       "      <td>float64</td>\n",
       "      <td>0</td>\n",
       "    </tr>\n",
       "    <tr>\n",
       "      <th>YearBuilt</th>\n",
       "      <td>0</td>\n",
       "      <td>float64</td>\n",
       "      <td>0</td>\n",
       "    </tr>\n",
       "    <tr>\n",
       "      <th>CouncilArea</th>\n",
       "      <td>0</td>\n",
       "      <td>object</td>\n",
       "      <td>0</td>\n",
       "    </tr>\n",
       "    <tr>\n",
       "      <th>Lattitude</th>\n",
       "      <td>0</td>\n",
       "      <td>float64</td>\n",
       "      <td>0</td>\n",
       "    </tr>\n",
       "    <tr>\n",
       "      <th>Longtitude</th>\n",
       "      <td>0</td>\n",
       "      <td>float64</td>\n",
       "      <td>0</td>\n",
       "    </tr>\n",
       "    <tr>\n",
       "      <th>Regionname</th>\n",
       "      <td>0</td>\n",
       "      <td>object</td>\n",
       "      <td>0</td>\n",
       "    </tr>\n",
       "    <tr>\n",
       "      <th>Propertycount</th>\n",
       "      <td>0</td>\n",
       "      <td>float64</td>\n",
       "      <td>0</td>\n",
       "    </tr>\n",
       "  </tbody>\n",
       "</table>\n",
       "</div>"
      ],
      "text/plain": [
       "               Missing Values Data Types  Duplicate Count\n",
       "Suburb                      0     object                0\n",
       "Address                     0     object                0\n",
       "Rooms                       0      int64                0\n",
       "Type                        0     object                0\n",
       "Price                       0    float64                0\n",
       "Method                      0     object                0\n",
       "SellerG                     0     object                0\n",
       "Date                        0     object                0\n",
       "Distance                    0    float64                0\n",
       "Postcode                    0    float64                0\n",
       "Bedroom2                    0    float64                0\n",
       "Bathroom                    0    float64                0\n",
       "Car                         0    float64                0\n",
       "Landsize                    0    float64                0\n",
       "BuildingArea                0    float64                0\n",
       "YearBuilt                   0    float64                0\n",
       "CouncilArea                 0     object                0\n",
       "Lattitude                   0    float64                0\n",
       "Longtitude                  0    float64                0\n",
       "Regionname                  0     object                0\n",
       "Propertycount               0    float64                0"
      ]
     },
     "execution_count": 6,
     "metadata": {},
     "output_type": "execute_result"
    }
   ],
   "source": [
    "# Checking column information\n",
    "# Checking the missing values\n",
    "missing_values = df_prop.isnull().sum()\n",
    "\n",
    "# Get the data types\n",
    "data_types = df_prop.dtypes\n",
    "\n",
    "# Count duplicates\n",
    "duplicate_count = df_prop.duplicated().sum()\n",
    "\n",
    "# Create a summary DataFrame\n",
    "summary = pd.DataFrame({\n",
    "    'Missing Values': missing_values,\n",
    "    'Data Types': data_types,\n",
    "    'Duplicate Count': [duplicate_count] * len(missing_values)\n",
    "})\n",
    "\n",
    "summary"
   ]
  },
  {
   "cell_type": "markdown",
   "id": "9ef0b560-d172-4bd4-b427-29901102d251",
   "metadata": {
    "jp-MarkdownHeadingCollapsed": true
   },
   "source": [
    "# Q1"
   ]
  },
  {
   "cell_type": "markdown",
   "id": "20a04792-9020-4429-8827-cb723d856812",
   "metadata": {},
   "source": [
    "- For the suburb Altona, it is postulated that a typical property sells for 800000.\n",
    "- Use the data at hand to test this assumption. Is the typical property price really $800,000 or has it increased?\n",
    "- Use a significance level of 5%. "
   ]
  },
  {
   "cell_type": "code",
   "execution_count": 7,
   "id": "276e46a9-89f1-4d5b-af26-730fe817faac",
   "metadata": {},
   "outputs": [
    {
     "name": "stdout",
     "output_type": "stream",
     "text": [
      "Mean Property Price in Altona: $834,830.41\n",
      "Test Statistic (t): 1.028\n",
      "One-Tailed p-Value: 0.154\n",
      "Conclusion: There is insufficient evidence to conclude that the typical property price in Altona has increased beyond $800,000.\n"
     ]
    }
   ],
   "source": [
    "from scipy.stats import ttest_1samp\n",
    "\n",
    "# Filter data for the suburb \"Altona\" and extract property prices\n",
    "altona_prices = df_prop[df_prop['Suburb'] == 'Altona']['Price'].dropna()\n",
    "\n",
    "# Test value\n",
    "test_value = 800000\n",
    "\n",
    "# Perform a one-sample t-test\n",
    "t_stat, p_value = ttest_1samp(altona_prices, test_value)\n",
    "\n",
    "# Since it's a one-tailed test, divide the p-value by 2\n",
    "p_value_one_tailed = p_value / 2\n",
    "\n",
    "# Calculate mean price for reference\n",
    "mean_price_altona = altona_prices.mean()\n",
    "\n",
    "# Display results\n",
    "print(f\"Mean Property Price in Altona: ${mean_price_altona:,.2f}\")\n",
    "print(f\"Test Statistic (t): {t_stat:.3f}\")\n",
    "print(f\"One-Tailed p-Value: {p_value_one_tailed:.3f}\")\n",
    "\n",
    "# Conclusion\n",
    "if p_value_one_tailed < 0.05:\n",
    "    print(\"Conclusion: There is significant evidence that the typical property price in Altona has increased beyond $800,000.\")\n",
    "else:\n",
    "    print(\"Conclusion: There is insufficient evidence to conclude that the typical property price in Altona has increased beyond $800,000.\")"
   ]
  },
  {
   "cell_type": "markdown",
   "id": "e5969c79-0abb-4574-8e55-ca87ebf731d9",
   "metadata": {},
   "source": [
    "Based on the analysis, the mean property price in Altona is 834,830.41, with a test statistic of 1.028 and a one-tailed p-value of 0.154.\n",
    "Given that the p-value exceeds the 5% significance level (0.05), we fail to reject the null hypothesis.\n",
    "This indicates that there is insufficient statistical evidence to conclude that the typical property price in Altona has increased beyond 800,000. Therefore, the assumption that the typical property price is 800,000 remains plausible."
   ]
  },
  {
   "cell_type": "markdown",
   "id": "cb4ef3de-b8d2-4447-aa7c-3dc455011e59",
   "metadata": {
    "jp-MarkdownHeadingCollapsed": true
   },
   "source": [
    "# Q2"
   ]
  },
  {
   "cell_type": "markdown",
   "id": "e3558b89-7c8b-48ad-a0e3-86fb26ced293",
   "metadata": {},
   "source": [
    "- For the year 2016, is there any difference in prices of properties sold in the summer months vs winter months?\n",
    "- Consider months from October till March as winter months and the rest as summer months. Use a significance level of 5%. "
   ]
  },
  {
   "cell_type": "code",
   "execution_count": 8,
   "id": "a56f6582-9739-48d2-9fe4-0fcad6cef760",
   "metadata": {},
   "outputs": [
    {
     "name": "stdout",
     "output_type": "stream",
     "text": [
      "Mean Price (Summer): $1,048,054.73\n",
      "Mean Price (Winter): $1,116,647.59\n",
      "Test Statistic (t): -4.043\n",
      "p-Value: 0.000\n",
      "Conclusion: There is a significant difference in property prices between summer and winter months in 2016.\n"
     ]
    }
   ],
   "source": [
    "from scipy.stats import ttest_ind\n",
    "\n",
    "# Converting the 'Date' column to datetime format for proper filtering\n",
    "df_prop['Date'] = pd.to_datetime(df_prop['Date'], format='%d/%m/%Y', errors='coerce')\n",
    "\n",
    "# Filtering data for the year 2016\n",
    "data_2016 = df_prop[df_prop['Date'].dt.year == 2016]\n",
    "\n",
    "# Categorizing into summer and winter months\n",
    "summer_months = [4, 5, 6, 7, 8, 9]  # April to September\n",
    "winter_months = [10, 11, 12, 1, 2, 3]  # October to March\n",
    "\n",
    "# Extracting prices for summer and winter months\n",
    "summer_prices = data_2016[data_2016['Date'].dt.month.isin(summer_months)]['Price'].dropna()\n",
    "winter_prices = data_2016[data_2016['Date'].dt.month.isin(winter_months)]['Price'].dropna()\n",
    "\n",
    "# Perform a two-sample t-test\n",
    "t_stat, p_value = ttest_ind(summer_prices, winter_prices)\n",
    "\n",
    "# Display results\n",
    "print(f\"Mean Price (Summer): ${summer_prices.mean():,.2f}\")\n",
    "print(f\"Mean Price (Winter): ${winter_prices.mean():,.2f}\")\n",
    "print(f\"Test Statistic (t): {t_stat:.3f}\")\n",
    "print(f\"p-Value: {p_value:.3f}\")\n",
    "\n",
    "# Conclusion\n",
    "if p_value < 0.05:\n",
    "    print(\"Conclusion: There is a significant difference in property prices between summer and winter months in 2016.\")\n",
    "else:\n",
    "    print(\"Conclusion: There is no significant difference in property prices between summer and winter months in 2016.\")"
   ]
  },
  {
   "cell_type": "markdown",
   "id": "298580c0-9a41-42f8-ab01-3af6a67ee8df",
   "metadata": {},
   "source": [
    "## Based on the independent two-sample t-test, the results indicate the following:\n",
    "\n",
    "- The mean price of properties sold during summer months (April–September) is compared to the mean price of properties sold during winter months (October–March) in 2016.\n",
    "- If the p-value from the test is less than 0.05, it suggests there is a statistically significant difference in property prices between the two periods.\n",
    "- If the p-value is greater than 0.05, it means there is no statistically significant difference in property prices between summer and winter months.\n",
    "\n",
    "## The exact conclusion:\n",
    "\n",
    "- If p<0.05: There is enough evidence to conclude that property prices differ significantly between summer and winter months in 2016.\n",
    "- If p≥0.05: There is insufficient evidence to conclude that property prices differ significantly between summer and winter months in 2016."
   ]
  },
  {
   "cell_type": "markdown",
   "id": "f462b786-0011-4ee0-aaf5-6f4cc0d0772d",
   "metadata": {},
   "source": [
    "## Conclusion:\n",
    "- Given that the p-value is less than the 5% significance level (0.05), we reject the null hypothesis.\n",
    "- There is a statistically significant difference in property prices between the summer and winter months.\n",
    "- Properties sold in winter months tend to have higher prices compared to those sold in summer months."
   ]
  },
  {
   "cell_type": "markdown",
   "id": "5d375206-b075-4e94-94ae-61e39fca477a",
   "metadata": {
    "jp-MarkdownHeadingCollapsed": true
   },
   "source": [
    "# Q3"
   ]
  },
  {
   "cell_type": "markdown",
   "id": "9e4630ce-7e52-4322-afe0-bbfc6ca28e70",
   "metadata": {},
   "source": [
    "- For the suburb of Abbotsford, what is the probability that out of 10 properties sold, 3 will not have car parking?\n",
    "- Use the column car in the dataset. Round off your answer to 3 decimal places. "
   ]
  },
  {
   "cell_type": "code",
   "execution_count": 9,
   "id": "c99511c1-ab67-450f-ac63-596d24be9c53",
   "metadata": {},
   "outputs": [
    {
     "name": "stdout",
     "output_type": "stream",
     "text": [
      "Probability of no car parking (p): 0.268\n",
      "Probability that 3 out of 10 properties sold will not have car parking: 0.260\n"
     ]
    }
   ],
   "source": [
    "from scipy.stats import binom\n",
    "\n",
    "# Filtering data for the suburb \"Abbotsford\" and calculate probability of no car parking\n",
    "abbotsford_data = df_prop[df_prop['Suburb'] == 'Abbotsford']\n",
    "no_car_parking_prob = (abbotsford_data['Car'] == 0).mean()\n",
    "\n",
    "# Given values for the binomial distribution\n",
    "n = 10  # Total properties sold\n",
    "k = 3   # Number of properties with no car parking\n",
    "\n",
    "# Calculate binomial probability\n",
    "probability = binom.pmf(k, n, no_car_parking_prob)\n",
    "\n",
    "# Results\n",
    "print(f\"Probability of no car parking (p): {no_car_parking_prob:.3f}\")\n",
    "print(f\"Probability that 3 out of 10 properties sold will not have car parking: {probability:.3f}\")"
   ]
  },
  {
   "cell_type": "markdown",
   "id": "11c22b50-ba83-43d1-9439-b68fdc2af9c6",
   "metadata": {},
   "source": [
    "## Conclusion:\n",
    "- The probability that 3 out of 10 properties sold in Abbotsford will not have car parking is 0.260.\n",
    "- This means there is a 26.0% chance that exactly 3 of the 10 properties sold will lack car parking."
   ]
  },
  {
   "cell_type": "markdown",
   "id": "d9685965-f564-44f6-bf25-c36552856ee5",
   "metadata": {
    "jp-MarkdownHeadingCollapsed": true
   },
   "source": [
    "# Q4"
   ]
  },
  {
   "cell_type": "markdown",
   "id": "9c431a2b-1bdd-4425-8920-62d35936349c",
   "metadata": {},
   "source": [
    "- In the suburb of Abbotsford, what are the chances of finding a property with 3 rooms?\n",
    "- Round your answer to 3 decimal places. "
   ]
  },
  {
   "cell_type": "code",
   "execution_count": 10,
   "id": "7186115a-bf51-4848-9ebc-15a4d44f28a2",
   "metadata": {},
   "outputs": [
    {
     "name": "stdout",
     "output_type": "stream",
     "text": [
      "Probability of finding a property with 3 rooms in Abbotsford: 0.357\n"
     ]
    }
   ],
   "source": [
    "# Filter data for the suburb \"Abbotsford\"\n",
    "abbotsford_data = df_prop[df_prop['Suburb'] == 'Abbotsford']\n",
    "\n",
    "# Calculate the total number of properties and those with 3 rooms\n",
    "total_properties = len(abbotsford_data)\n",
    "properties_with_3_rooms = len(abbotsford_data[abbotsford_data['Rooms'] == 3])\n",
    "\n",
    "# Calculate probability\n",
    "probability = properties_with_3_rooms / total_properties\n",
    "\n",
    "# Result\n",
    "print(f\"Probability of finding a property with 3 rooms in Abbotsford: {probability:.3f}\")"
   ]
  },
  {
   "cell_type": "markdown",
   "id": "7650510c-829b-49c9-94ac-657eb6a2cbfd",
   "metadata": {},
   "source": [
    "## Conclusion:\n",
    "- The probability of finding a property with 3 rooms in Abbotsford is 0.357.\n",
    "- This indicates that there is a 35.7% chance of a randomly selected property in Abbotsford having 3 rooms."
   ]
  },
  {
   "cell_type": "markdown",
   "id": "0ca5154b-6015-4464-9cee-851da4c3f058",
   "metadata": {
    "jp-MarkdownHeadingCollapsed": true
   },
   "source": [
    "# Q5 "
   ]
  },
  {
   "cell_type": "markdown",
   "id": "bbc6d084-7dab-44f4-942d-2d6f6b984b12",
   "metadata": {},
   "source": [
    "- In the suburb of Abbotsford, what are the chances of finding a property with 2 bathrooms?\n",
    "- Round your answer to 3 decimal places. "
   ]
  },
  {
   "cell_type": "code",
   "execution_count": 11,
   "id": "254bf634-534e-479a-8200-79fc1a324781",
   "metadata": {},
   "outputs": [
    {
     "name": "stdout",
     "output_type": "stream",
     "text": [
      "Probability of finding a property with 2 bathrooms in Abbotsford: 0.339\n"
     ]
    }
   ],
   "source": [
    "# Filter data for the suburb \"Abbotsford\"\n",
    "abbotsford_data = df_prop[df_prop['Suburb'] == 'Abbotsford']\n",
    "\n",
    "# Calculate the total number of properties and those with 2 bathrooms\n",
    "total_properties = len(abbotsford_data)\n",
    "properties_with_2_bathrooms = len(abbotsford_data[abbotsford_data['Bathroom'] == 2])\n",
    "\n",
    "# Calculate probability\n",
    "probability = properties_with_2_bathrooms / total_properties\n",
    "\n",
    "# Display results\n",
    "print(f\"Probability of finding a property with 2 bathrooms in Abbotsford: {probability:.3f}\")"
   ]
  },
  {
   "cell_type": "markdown",
   "id": "d8370cd4-5d1e-4f53-8d8d-d34ca461260f",
   "metadata": {},
   "source": [
    "## Conclusion:\n",
    "- The probability of finding a property with 2 bathrooms in Abbotsford is 0.339.\\\n",
    "- This means there is a 33.9% chance that a randomly selected property in Abbotsford will have 2 bathrooms."
   ]
  },
  {
   "cell_type": "code",
   "execution_count": null,
   "id": "c1ef3a70-b4ae-4cd6-91d1-cea2701631ae",
   "metadata": {},
   "outputs": [],
   "source": []
  }
 ],
 "metadata": {
  "kernelspec": {
   "display_name": "Python 3 (ipykernel)",
   "language": "python",
   "name": "python3"
  },
  "language_info": {
   "codemirror_mode": {
    "name": "ipython",
    "version": 3
   },
   "file_extension": ".py",
   "mimetype": "text/x-python",
   "name": "python",
   "nbconvert_exporter": "python",
   "pygments_lexer": "ipython3",
   "version": "3.12.4"
  }
 },
 "nbformat": 4,
 "nbformat_minor": 5
}
